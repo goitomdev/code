{
 "cells": [
  {
   "cell_type": "markdown",
   "metadata": {},
   "source": [
    "\n",
    "\n",
    "\n",
    "\n",
    "\n",
    "Denne Python-koden forutsier vanskelige å måle vannkvalitetsvariabler, for eksempel totalt fosfor (Tot P) og totalt nitrogen (Tot N), basert på enkle å måle vannkvalitetsvariabler, som pH, turbiditet (TURB) og konduktivitet (COND)\n",
    "\n",
    "\n",
    "# Importing / Installing packages"
   ]
  },
  {
   "cell_type": "code",
   "execution_count": null,
   "metadata": {},
   "outputs": [],
   "source": [
    "#import libraries/packages  \n",
    "import os ##provides functions for interacting with the operating system\n",
    "import pandas as pd \n",
    "import numpy as np \n",
    "import matplotlib.pyplot as plt \n",
    "import seaborn as sns \n",
    "\n",
    "from sklearn import linear_model\n",
    "from sklearn.linear_model import LinearRegression\n",
    "from sklearn.tree import DecisionTreeClassifier\n",
    "from sklearn.model_selection import train_test_split\n",
    "from sklearn.metrics import r2_score, explained_variance_score, mean_absolute_error, mean_squared_error\n",
    "from math import sqrt\n",
    "\n",
    "# Increases the size of sns plots\n",
    "sns.set(rc={'figure.figsize':(12,10)})\n",
    "\n",
    "import warnings # supress warnings\n",
    "warnings.filterwarnings('ignore')\n"
   ]
  },
  {
   "cell_type": "markdown",
   "metadata": {},
   "source": [
    "# Defining a working directory\n",
    "\n",
    "os.chdir('C:/Users/gowe/CorrEDA')"
   ]
  },
  {
   "cell_type": "markdown",
   "metadata": {},
   "source": [
    "## Loading the raw data"
   ]
  },
  {
   "cell_type": "code",
   "execution_count": null,
   "metadata": {},
   "outputs": [],
   "source": [
    "#import dataset - # loading the data\n",
    "\n",
    "pars = pd.read_excel('sensordata.xlsx')"
   ]
  },
  {
   "cell_type": "markdown",
   "metadata": {},
   "source": [
    "## Data preprocessing & exploratory data analysis"
   ]
  },
  {
   "cell_type": "code",
   "execution_count": null,
   "metadata": {},
   "outputs": [],
   "source": [
    "#Replace missing values with mean, median and mode \n",
    "\n",
    "pars['pH'] = pars['pH'].fillna(pars['pH'].mean())\n",
    "pars['TotP'] = pars['TotP'].fillna(pars['TotP'].mean())\n",
    "pars['PO4P'] = pars['PO4P'].fillna(pars['PO4P'].mean())\n",
    "pars['Tot N'] = pars['Tot N'].fillna(pars['Tot N'].mean())\n",
    "pars['NO3N'] = pars['NO3N'].fillna(pars['NO3N'].mean())\n"
   ]
  },
  {
   "cell_type": "code",
   "execution_count": null,
   "metadata": {},
   "outputs": [],
   "source": [
    "# Deleting outliers\n",
    "\n",
    "\n",
    "#Replacing TURB outliers with mean\n",
    "for i in pars['TURB']:\n",
    "    raw_data = pars[pars['TURB'] > 1000]\n",
    "    if i > 1000:\n",
    "        pars['TURB'] = pars['TURB'].replace(i, np.median(pars['TURB']))\n",
    "        \n"
   ]
  },
  {
   "cell_type": "code",
   "execution_count": null,
   "metadata": {},
   "outputs": [],
   "source": [
    "#Replacing TotP outliers with mean\n",
    "for i in pars['TotP']:\n",
    "    raw_data = pars[pars['TotP'] > 1000]\n",
    "    if i > 1000:\n",
    "        pars['TotP'] = pars['TotP'].replace(i, np.median(pars['TotP']))"
   ]
  },
  {
   "cell_type": "markdown",
   "metadata": {},
   "source": [
    "# Correlation\n",
    "Correlation between hard-to-measure variables and easy-to-measure variables"
   ]
  },
  {
   "cell_type": "code",
   "execution_count": null,
   "metadata": {},
   "outputs": [],
   "source": [
    "\n",
    "#correlation with the variable of interest\n",
    "pars_corr = pars_num.corr()['TotP'][:-6]\n",
    "\n",
    "pars_corr = pars_num[['Vannføring', 'mm nedbør samme dag ', 'mm nedbør dagen før',\n",
    "       'sum nedbør ', 'sum nedbør', 'pH', 'KOND ', 'TURB','TotP']].corr()\n",
    "\n",
    "g = sns.heatmap(pars_corr, annot = True, annot_kws={'size':10})\n",
    "#correlation plots using 'pairplot'\n",
    "for i in range(0, len(pars_num.columns),5):\n",
    "    sns.pairplot(pars_num,y_vars=['TotP µgi l'],x_vars=pars_num.columns[i:i+5])"
   ]
  },
  {
   "cell_type": "code",
   "execution_count": null,
   "metadata": {},
   "outputs": [],
   "source": [
    "#correlation with the variable of interest\n",
    "pars_corr = pars_num.corr()['PO4P'][:-6]\n",
    "\n",
    "pars_corr = pars_num[['Vannføring', 'mm nedbør samme dag ', 'mm nedbør dagen før',\n",
    "       'sum nedbør ', 'sum nedbør', 'pH', 'KOND ', 'TURB', 'PO4P']].corr()\n",
    "\n",
    "g = sns.heatmap(pars_corr, annot = True, annot_kws={'size':10})\n",
    "#correlation plots using 'pairplot'\n",
    "for i in range(0, len(pars_num.columns),5):\n",
    "    sns.pairplot(pars_num,y_vars=['PO4P,\\nµgi l'],x_vars=pars_num.columns[i:i+5])"
   ]
  },
  {
   "cell_type": "code",
   "execution_count": null,
   "metadata": {},
   "outputs": [],
   "source": [
    "#correlation with the variable of interest\n",
    "pars_corr = pars_num.corr()['Tot N\\nµgil'][:-6]\n",
    "\n",
    "pars_corr = pars_num[['Vannføring', 'mm nedbør samme dag ', 'mm nedbør dagen før',\n",
    "       'sum nedbør ', 'sum nedbør', 'pH', 'KOND mS/m', 'TURB\\nFNU',\n",
    "       'Tot N\\nµgil']].corr()\n",
    "\n",
    "g = sns.heatmap(pars_corr, annot = True, annot_kws={'size':10})\n",
    "#correlation plots using 'pairplot'\n",
    "for i in range(0, len(pars_num.columns),5):\n",
    "    sns.pairplot(pars_num,y_vars=['Tot N\\nµgil'],x_vars=pars_num.columns[i:i+5])"
   ]
  },
  {
   "cell_type": "code",
   "execution_count": null,
   "metadata": {},
   "outputs": [],
   "source": [
    "#correlation with the variable of interest\n",
    "pars_corr = pars_num.corr()['Tkol\\nAnt/100 mL'][:-6]\n",
    "\n",
    "pars_corr = pars_num[['Vannføring', 'mm nedbør samme dag ', 'mm nedbør dagen før',\n",
    "       'sum nedbør ', 'sum nedbør', 'pH', 'KOND mS/m', 'TURB\\nFNU',\n",
    "       'Tkol\\nAnt/100 mL']].corr()\n",
    "\n",
    "g = sns.heatmap(pars_corr, annot = True, annot_kws={'size':10})\n",
    "#correlation plots using 'pairplot'\n",
    "for i in range(0, len(pars_num.columns),5):\n",
    "    sns.pairplot(pars_num,y_vars=['Tkol\\nAnt/100 mL'],x_vars=pars_num.columns[i:i+5])"
   ]
  },
  {
   "cell_type": "markdown",
   "metadata": {},
   "source": [
    "# Split the dataset into X & Y "
   ]
  },
  {
   "cell_type": "code",
   "execution_count": null,
   "metadata": {},
   "outputs": [],
   "source": [
    "# Split the dataset into features (X) and target variable (y)\n",
    "print(pars_num.shape)\n",
    "\n",
    "\n",
    "X = pars[['pH','TURB']]\n",
    "y = pars['TotP']\n",
    "\n",
    "print(X.shape)\n",
    "print(y.shape)"
   ]
  },
  {
   "cell_type": "code",
   "execution_count": null,
   "metadata": {},
   "outputs": [],
   "source": [
    "# Hold-out validation\n",
    "X_train, X_test, y_train, y_test = train_test_split(X, y, train_size=0.80, test_size = 0.20, random_state=0)"
   ]
  },
  {
   "cell_type": "markdown",
   "metadata": {},
   "source": [
    "# Training the regression model & making predictions"
   ]
  },
  {
   "cell_type": "code",
   "execution_count": null,
   "metadata": {},
   "outputs": [],
   "source": [
    "\n",
    "# Training the regression model\n",
    "\n",
    "lm = linear_model.LinearRegression()\n",
    "\n",
    "lm.fit(X_train, y_train)\n",
    "\n",
    "y_pred = lm.predict(X_train)\n",
    "\n"
   ]
  },
  {
   "cell_type": "code",
   "execution_count": null,
   "metadata": {},
   "outputs": [],
   "source": [
    " ypred2=lm.predict(X_test)"
   ]
  },
  {
   "cell_type": "markdown",
   "metadata": {},
   "source": [
    "# Metrics for model evaluation"
   ]
  },
  {
   "cell_type": "code",
   "execution_count": null,
   "metadata": {},
   "outputs": [],
   "source": [
    "# Model accuracy on training dataset\n",
    "\n",
    "print('The accuracy  on the training dataset is: ', lm.score(X_train, y_train) )\n",
    "print('The accuracy R*2  on the training dataset is: ',r2_score(y_train,y_pred) )   \n",
    "\n",
    "print(\"\")\n",
    "# Model accuracy on testing dataset\n",
    "print('The accuracy  on the testing dataset is: ', lm.score(X_test, y_test ))  # y_test) )\n",
    "print('The accuracy R*2  on the testing dataset is: ',r2_score(y_test, ypred2))\n",
    "\n",
    "print(\"\")\n",
    "# The Root Mean Squared Error (RMSE)\n",
    "print('The RMSE  on the training dataset is: ',sqrt(mean_squared_error(y_train,y_pred)))\n",
    "print('The RMSE  on the testing dataset is: ',sqrt(mean_squared_error(y_test,lm.predict(X_test))))\n",
    "\n",
    "print(\"\")\n",
    "# The Mean Absolute Error (MAE)\n",
    "print('The MAE  on the training dataset is: ',mean_absolute_error(y_train,y_pred))\n",
    "print('The MAE  on the testing dataset is: ',mean_absolute_error(y_test,lm.predict(X_test)))\n",
    "\n",
    "\n",
    "print(\"\")\n",
    "# Coefficients\n",
    "print('Coefficients: ', lm.coef_ )\n",
    "\n",
    "print(\"\")\n",
    "# The Intercept\n",
    "print('Intercept: ', lm.intercept_)"
   ]
  },
  {
   "cell_type": "markdown",
   "metadata": {},
   "source": [
    "# Generate a plot to visualise the results"
   ]
  },
  {
   "cell_type": "code",
   "execution_count": null,
   "metadata": {},
   "outputs": [],
   "source": [
    "# Plotting Actuals Vs Predicted\n",
    "\n",
    "plt.figure(figsize=(15,10))\n",
    "\n",
    "plt.scatter(y_train, y_pred, c='green')\n",
    "plt.plot([y_train.min(), y_train.max()], [y_train.min(), y_train.max()], 'k--', c='red', lw=3)\n",
    "plt.xlabel('Actuals')\n",
    "plt.ylabel('Predicted Values')\n",
    "plt.title('Actuals Vs Predicted Values')\n",
    "# increase size"
   ]
  }
 ],
 "metadata": {
  "kernelspec": {
   "display_name": "Python 3",
   "language": "python",
   "name": "python3"
  },
  "language_info": {
   "codemirror_mode": {
    "name": "ipython",
    "version": 3
   },
   "file_extension": ".py",
   "mimetype": "text/x-python",
   "name": "python",
   "nbconvert_exporter": "python",
   "pygments_lexer": "ipython3",
   "version": "3.11.9"
  }
 },
 "nbformat": 4,
 "nbformat_minor": 2
}
